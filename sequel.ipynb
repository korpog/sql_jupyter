{
 "cells": [
  {
   "cell_type": "code",
   "execution_count": null,
   "metadata": {
    "vscode": {
     "languageId": "sql"
    }
   },
   "outputs": [],
   "source": [
    "%load_ext sql"
   ]
  },
  {
   "cell_type": "code",
   "execution_count": null,
   "metadata": {
    "vscode": {
     "languageId": "sql"
    }
   },
   "outputs": [],
   "source": [
    "%sql sqlite:///chinook.db"
   ]
  },
  {
   "cell_type": "code",
   "execution_count": null,
   "metadata": {
    "vscode": {
     "languageId": "sql"
    }
   },
   "outputs": [],
   "source": [
    "%%sql\n",
    "SELECT * FROM invoices \n",
    "LIMIT 5"
   ]
  },
  {
   "cell_type": "markdown",
   "metadata": {},
   "source": [
    "### GROUP BY"
   ]
  },
  {
   "cell_type": "code",
   "execution_count": null,
   "metadata": {
    "vscode": {
     "languageId": "sql"
    }
   },
   "outputs": [],
   "source": [
    "%%sql\n",
    "SELECT BillingCountry, COUNT(BillingCountry) AS Count FROM invoices\n",
    "GROUP BY BillingCountry\n",
    "ORDER BY COUNT(BillingCountry) DESC"
   ]
  },
  {
   "cell_type": "markdown",
   "metadata": {},
   "source": [
    "### BETWEEN"
   ]
  },
  {
   "cell_type": "code",
   "execution_count": null,
   "metadata": {
    "vscode": {
     "languageId": "sql"
    }
   },
   "outputs": [],
   "source": [
    "%%sql\n",
    "SELECT BillingAddress, Total FROM invoices\n",
    "WHERE\n",
    "Total BETWEEN 10 AND 15\n",
    "ORDER BY Total DESC\n",
    "LIMIT 10"
   ]
  },
  {
   "cell_type": "markdown",
   "metadata": {},
   "source": [
    "### JOIN"
   ]
  },
  {
   "cell_type": "code",
   "execution_count": null,
   "metadata": {
    "vscode": {
     "languageId": "sql"
    }
   },
   "outputs": [],
   "source": [
    "%%sql\n",
    "SELECT l.Title, r.Name FROM albums l\n",
    "INNER JOIN artists r ON\n",
    "r.ArtistId = l.ArtistId\n",
    "LIMIT 5"
   ]
  },
  {
   "cell_type": "code",
   "execution_count": null,
   "metadata": {
    "vscode": {
     "languageId": "sql"
    }
   },
   "outputs": [],
   "source": [
    "%%sql\n",
    "SELECT e.FirstName || ' ' || e.LastName AS Employee,\n",
    "c.FirstName AS CustomerFName, c.LastName AS CustomerLName\n",
    "FROM employees e\n",
    "INNER JOIN customers c ON\n",
    "c.SupportRepId = e.EmployeeId\n",
    "LIMIT 5"
   ]
  },
  {
   "cell_type": "code",
   "execution_count": 19,
   "metadata": {
    "vscode": {
     "languageId": "sql"
    }
   },
   "outputs": [
    {
     "name": "stdout",
     "output_type": "stream",
     "text": [
      " * sqlite:///chinook.db\n",
      "Done.\n"
     ]
    },
    {
     "data": {
      "text/html": [
       "<table>\n",
       "    <thead>\n",
       "        <tr>\n",
       "            <th>TrackName</th>\n",
       "            <th>AlbumTitle</th>\n",
       "        </tr>\n",
       "    </thead>\n",
       "    <tbody>\n",
       "        <tr>\n",
       "            <td>For Those About To Rock (We Salute You)</td>\n",
       "            <td>For Those About To Rock We Salute You</td>\n",
       "        </tr>\n",
       "        <tr>\n",
       "            <td>Put The Finger On You</td>\n",
       "            <td>For Those About To Rock We Salute You</td>\n",
       "        </tr>\n",
       "        <tr>\n",
       "            <td>Let&#x27;s Get It Up</td>\n",
       "            <td>For Those About To Rock We Salute You</td>\n",
       "        </tr>\n",
       "        <tr>\n",
       "            <td>Inject The Venom</td>\n",
       "            <td>For Those About To Rock We Salute You</td>\n",
       "        </tr>\n",
       "        <tr>\n",
       "            <td>Snowballed</td>\n",
       "            <td>For Those About To Rock We Salute You</td>\n",
       "        </tr>\n",
       "    </tbody>\n",
       "</table>"
      ],
      "text/plain": [
       "[('For Those About To Rock (We Salute You)', 'For Those About To Rock We Salute You'),\n",
       " ('Put The Finger On You', 'For Those About To Rock We Salute You'),\n",
       " (\"Let's Get It Up\", 'For Those About To Rock We Salute You'),\n",
       " ('Inject The Venom', 'For Those About To Rock We Salute You'),\n",
       " ('Snowballed', 'For Those About To Rock We Salute You')]"
      ]
     },
     "execution_count": 19,
     "metadata": {},
     "output_type": "execute_result"
    }
   ],
   "source": [
    "%%sql\n",
    "SELECT t.Name AS TrackName, a.Title AS AlbumTitle\n",
    "FROM albums a\n",
    "LEFT JOIN tracks t ON\n",
    "a.AlbumId = t.AlbumId\n",
    "ORDER BY a.Title ASC\n",
    "LIMIT 5\n"
   ]
  }
 ],
 "metadata": {
  "kernelspec": {
   "display_name": ".env",
   "language": "python",
   "name": "python3"
  },
  "language_info": {
   "codemirror_mode": {
    "name": "ipython",
    "version": 3
   },
   "file_extension": ".py",
   "mimetype": "text/x-python",
   "name": "python",
   "nbconvert_exporter": "python",
   "pygments_lexer": "ipython3",
   "version": "3.10.12"
  },
  "orig_nbformat": 4
 },
 "nbformat": 4,
 "nbformat_minor": 2
}
