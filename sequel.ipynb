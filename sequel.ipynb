{
 "cells": [
  {
   "cell_type": "markdown",
   "metadata": {},
   "source": [
    "### SETUP"
   ]
  },
  {
   "cell_type": "code",
   "execution_count": null,
   "metadata": {
    "vscode": {
     "languageId": "sql"
    }
   },
   "outputs": [],
   "source": [
    "%load_ext sql"
   ]
  },
  {
   "cell_type": "code",
   "execution_count": null,
   "metadata": {
    "vscode": {
     "languageId": "sql"
    }
   },
   "outputs": [],
   "source": [
    "%sql sqlite:///chinook.db"
   ]
  },
  {
   "cell_type": "markdown",
   "metadata": {},
   "source": [
    "### GROUP BY"
   ]
  },
  {
   "cell_type": "code",
   "execution_count": null,
   "metadata": {
    "vscode": {
     "languageId": "sql"
    }
   },
   "outputs": [],
   "source": [
    "%%sql\n",
    "SELECT BillingCountry, COUNT(BillingCountry) AS Count FROM invoices\n",
    "GROUP BY BillingCountry\n",
    "ORDER BY COUNT(BillingCountry) DESC"
   ]
  },
  {
   "cell_type": "markdown",
   "metadata": {},
   "source": [
    "### BETWEEN"
   ]
  },
  {
   "cell_type": "code",
   "execution_count": null,
   "metadata": {
    "vscode": {
     "languageId": "sql"
    }
   },
   "outputs": [],
   "source": [
    "%%sql\n",
    "SELECT BillingAddress, Total FROM invoices\n",
    "WHERE\n",
    "Total BETWEEN 10 AND 15\n",
    "ORDER BY Total DESC\n",
    "LIMIT 10"
   ]
  },
  {
   "cell_type": "markdown",
   "metadata": {},
   "source": [
    "### JOIN"
   ]
  },
  {
   "cell_type": "code",
   "execution_count": null,
   "metadata": {
    "vscode": {
     "languageId": "sql"
    }
   },
   "outputs": [],
   "source": [
    "%%sql\n",
    "SELECT l.Title, r.Name FROM albums l\n",
    "INNER JOIN artists r ON\n",
    "r.ArtistId = l.ArtistId\n",
    "LIMIT 5"
   ]
  },
  {
   "cell_type": "code",
   "execution_count": null,
   "metadata": {
    "vscode": {
     "languageId": "sql"
    }
   },
   "outputs": [],
   "source": [
    "%%sql\n",
    "SELECT e.FirstName || ' ' || e.LastName AS Employee,\n",
    "c.FirstName AS CustomerFName, c.LastName AS CustomerLName\n",
    "FROM employees e\n",
    "INNER JOIN customers c ON\n",
    "c.SupportRepId = e.EmployeeId\n",
    "LIMIT 5"
   ]
  },
  {
   "cell_type": "code",
   "execution_count": null,
   "metadata": {
    "vscode": {
     "languageId": "sql"
    }
   },
   "outputs": [],
   "source": [
    "%%sql\n",
    "SELECT COUNT(*) AS NumOfTracks, a.Title AS AlbumTitle\n",
    "FROM albums a\n",
    "LEFT JOIN tracks t ON\n",
    "a.AlbumId = t.AlbumId\n",
    "GROUP BY a.Title\n",
    "HAVING COUNT(*) > 25\n",
    "ORDER BY COUNT(*) DESC\n",
    "LIMIT 15"
   ]
  },
  {
   "cell_type": "code",
   "execution_count": null,
   "metadata": {
    "vscode": {
     "languageId": "sql"
    }
   },
   "outputs": [],
   "source": [
    "%%sql\n",
    "SELECT e.FirstName || ' ' || e.LastName AS Employee, c.FirstName || ' ' || c.LastName AS Customer, i.InvoiceDate, c.State FROM employees AS e\n",
    "INNER JOIN \n",
    "customers AS c\n",
    "ON e.EmployeeId = c.SupportRepId\n",
    "INNER JOIN\n",
    "invoices AS i\n",
    "ON c.CustomerId = i.CustomerId\n",
    "WHERE c.State = \"SP\"\n",
    "LIMIT 20"
   ]
  },
  {
   "cell_type": "markdown",
   "metadata": {},
   "source": [
    "### LIKE"
   ]
  },
  {
   "cell_type": "code",
   "execution_count": null,
   "metadata": {
    "vscode": {
     "languageId": "sql"
    }
   },
   "outputs": [],
   "source": [
    "%%sql\n",
    "SELECT name from tracks\n",
    "WHERE name LIKE 'Black%'"
   ]
  },
  {
   "cell_type": "code",
   "execution_count": null,
   "metadata": {
    "vscode": {
     "languageId": "sql"
    }
   },
   "outputs": [],
   "source": [
    "%%sql\n",
    "SELECT Name from tracks\n",
    "WHERE name LIKE '%Love'"
   ]
  },
  {
   "cell_type": "code",
   "execution_count": null,
   "metadata": {
    "vscode": {
     "languageId": "sql"
    }
   },
   "outputs": [],
   "source": [
    "%%sql\n",
    "SELECT name from tracks\n",
    "WHERE name LIKE '%mor_%'"
   ]
  },
  {
   "cell_type": "markdown",
   "metadata": {},
   "source": [
    "### UNION"
   ]
  },
  {
   "cell_type": "code",
   "execution_count": null,
   "metadata": {
    "vscode": {
     "languageId": "sql"
    }
   },
   "outputs": [],
   "source": [
    "%%sql\n",
    "SELECT name from tracks\n",
    "WHERE name LIKE 'Black%'\n",
    "UNION\n",
    "SELECT name from tracks\n",
    "WHERE name LIKE '%Love'"
   ]
  },
  {
   "cell_type": "markdown",
   "metadata": {},
   "source": [
    "### RANK"
   ]
  },
  {
   "cell_type": "code",
   "execution_count": null,
   "metadata": {
    "vscode": {
     "languageId": "sql"
    }
   },
   "outputs": [],
   "source": [
    "%%sql\n",
    "SELECT Name, UnitPrice,\n",
    "RANK () OVER (ORDER BY UnitPrice) PriceRank\n",
    "FROM tracks"
   ]
  },
  {
   "cell_type": "markdown",
   "metadata": {},
   "source": [
    "### FUNCTIONS"
   ]
  },
  {
   "cell_type": "code",
   "execution_count": null,
   "metadata": {
    "vscode": {
     "languageId": "sql"
    }
   },
   "outputs": [],
   "source": [
    "%%sql\n",
    "SELECT Name, GenreId, MIN(UnitPrice) FROM tracks\n",
    "GROUP BY GenreId"
   ]
  },
  {
   "cell_type": "code",
   "execution_count": null,
   "metadata": {
    "vscode": {
     "languageId": "sql"
    }
   },
   "outputs": [],
   "source": [
    "%%sql\n",
    "SELECT SUM(t.milliseconds), a.Title\n",
    "FROM tracks AS t\n",
    "INNER JOIN\n",
    "albums as a\n",
    "ON t.AlbumId = a.AlbumId\n",
    "GROUP BY a.Title\n",
    "ORDER BY SUM(t.milliseconds) DESC"
   ]
  }
 ],
 "metadata": {
  "kernelspec": {
   "display_name": ".env",
   "language": "python",
   "name": "python3"
  },
  "language_info": {
   "codemirror_mode": {
    "name": "ipython",
    "version": 3
   },
   "file_extension": ".py",
   "mimetype": "text/x-python",
   "name": "python",
   "nbconvert_exporter": "python",
   "pygments_lexer": "ipython3",
   "version": "3.10.12"
  },
  "orig_nbformat": 4
 },
 "nbformat": 4,
 "nbformat_minor": 2
}
