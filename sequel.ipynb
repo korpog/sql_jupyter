{
 "cells": [
  {
   "cell_type": "code",
   "execution_count": 2,
   "metadata": {},
   "outputs": [],
   "source": [
    "%load_ext sql"
   ]
  },
  {
   "cell_type": "code",
   "execution_count": 3,
   "metadata": {},
   "outputs": [],
   "source": [
    "%sql sqlite:///chinook.db"
   ]
  },
  {
   "cell_type": "code",
   "execution_count": 4,
   "metadata": {},
   "outputs": [
    {
     "name": "stdout",
     "output_type": "stream",
     "text": [
      " * sqlite:///chinook.db\n",
      "Done.\n"
     ]
    },
    {
     "data": {
      "text/html": [
       "<table>\n",
       "    <thead>\n",
       "        <tr>\n",
       "            <th>InvoiceId</th>\n",
       "            <th>CustomerId</th>\n",
       "            <th>InvoiceDate</th>\n",
       "            <th>BillingAddress</th>\n",
       "            <th>BillingCity</th>\n",
       "            <th>BillingState</th>\n",
       "            <th>BillingCountry</th>\n",
       "            <th>BillingPostalCode</th>\n",
       "            <th>Total</th>\n",
       "        </tr>\n",
       "    </thead>\n",
       "    <tbody>\n",
       "        <tr>\n",
       "            <td>1</td>\n",
       "            <td>2</td>\n",
       "            <td>2009-01-01 00:00:00</td>\n",
       "            <td>Theodor-Heuss-Straße 34</td>\n",
       "            <td>Stuttgart</td>\n",
       "            <td>None</td>\n",
       "            <td>Germany</td>\n",
       "            <td>70174</td>\n",
       "            <td>1.98</td>\n",
       "        </tr>\n",
       "        <tr>\n",
       "            <td>2</td>\n",
       "            <td>4</td>\n",
       "            <td>2009-01-02 00:00:00</td>\n",
       "            <td>Ullevålsveien 14</td>\n",
       "            <td>Oslo</td>\n",
       "            <td>None</td>\n",
       "            <td>Norway</td>\n",
       "            <td>0171</td>\n",
       "            <td>3.96</td>\n",
       "        </tr>\n",
       "        <tr>\n",
       "            <td>3</td>\n",
       "            <td>8</td>\n",
       "            <td>2009-01-03 00:00:00</td>\n",
       "            <td>Grétrystraat 63</td>\n",
       "            <td>Brussels</td>\n",
       "            <td>None</td>\n",
       "            <td>Belgium</td>\n",
       "            <td>1000</td>\n",
       "            <td>5.94</td>\n",
       "        </tr>\n",
       "        <tr>\n",
       "            <td>4</td>\n",
       "            <td>14</td>\n",
       "            <td>2009-01-06 00:00:00</td>\n",
       "            <td>8210 111 ST NW</td>\n",
       "            <td>Edmonton</td>\n",
       "            <td>AB</td>\n",
       "            <td>Canada</td>\n",
       "            <td>T6G 2C7</td>\n",
       "            <td>8.91</td>\n",
       "        </tr>\n",
       "        <tr>\n",
       "            <td>5</td>\n",
       "            <td>23</td>\n",
       "            <td>2009-01-11 00:00:00</td>\n",
       "            <td>69 Salem Street</td>\n",
       "            <td>Boston</td>\n",
       "            <td>MA</td>\n",
       "            <td>USA</td>\n",
       "            <td>2113</td>\n",
       "            <td>13.86</td>\n",
       "        </tr>\n",
       "    </tbody>\n",
       "</table>"
      ],
      "text/plain": [
       "[(1, 2, '2009-01-01 00:00:00', 'Theodor-Heuss-Straße 34', 'Stuttgart', None, 'Germany', '70174', 1.98),\n",
       " (2, 4, '2009-01-02 00:00:00', 'Ullevålsveien 14', 'Oslo', None, 'Norway', '0171', 3.96),\n",
       " (3, 8, '2009-01-03 00:00:00', 'Grétrystraat 63', 'Brussels', None, 'Belgium', '1000', 5.94),\n",
       " (4, 14, '2009-01-06 00:00:00', '8210 111 ST NW', 'Edmonton', 'AB', 'Canada', 'T6G 2C7', 8.91),\n",
       " (5, 23, '2009-01-11 00:00:00', '69 Salem Street', 'Boston', 'MA', 'USA', '2113', 13.86)]"
      ]
     },
     "execution_count": 4,
     "metadata": {},
     "output_type": "execute_result"
    }
   ],
   "source": [
    "%%sql\n",
    "SELECT * FROM invoices \n",
    "LIMIT 5"
   ]
  },
  {
   "cell_type": "markdown",
   "metadata": {},
   "source": [
    "### GROUP BY"
   ]
  },
  {
   "cell_type": "code",
   "execution_count": null,
   "metadata": {},
   "outputs": [],
   "source": [
    "%%sql\n",
    "SELECT BillingCountry, COUNT(BillingCountry) AS Count FROM invoices\n",
    "GROUP BY BillingCountry\n",
    "ORDER BY COUNT(BillingCountry) DESC"
   ]
  },
  {
   "cell_type": "markdown",
   "metadata": {},
   "source": [
    "### BETWEEN"
   ]
  },
  {
   "cell_type": "code",
   "execution_count": 8,
   "metadata": {},
   "outputs": [
    {
     "name": "stdout",
     "output_type": "stream",
     "text": [
      " * sqlite:///chinook.db\n",
      "Done.\n"
     ]
    },
    {
     "data": {
      "text/html": [
       "<table>\n",
       "    <thead>\n",
       "        <tr>\n",
       "            <th>BillingAddress</th>\n",
       "            <th>Total</th>\n",
       "        </tr>\n",
       "    </thead>\n",
       "    <tbody>\n",
       "        <tr>\n",
       "            <td>Berger Straße 10</td>\n",
       "            <td>14.91</td>\n",
       "        </tr>\n",
       "        <tr>\n",
       "            <td>69 Salem Street</td>\n",
       "            <td>13.86</td>\n",
       "        </tr>\n",
       "        <tr>\n",
       "            <td>Theodor-Heuss-Straße 34</td>\n",
       "            <td>13.86</td>\n",
       "        </tr>\n",
       "        <tr>\n",
       "            <td>8, Rue Hanovre</td>\n",
       "            <td>13.86</td>\n",
       "        </tr>\n",
       "        <tr>\n",
       "            <td>1 Infinite Loop</td>\n",
       "            <td>13.86</td>\n",
       "        </tr>\n",
       "        <tr>\n",
       "            <td>Calle Lira, 198</td>\n",
       "            <td>13.86</td>\n",
       "        </tr>\n",
       "        <tr>\n",
       "            <td>Tauentzienstraße 8</td>\n",
       "            <td>13.86</td>\n",
       "        </tr>\n",
       "        <tr>\n",
       "            <td>700 W Pender Street</td>\n",
       "            <td>13.86</td>\n",
       "        </tr>\n",
       "        <tr>\n",
       "            <td>113 Lupus St</td>\n",
       "            <td>13.86</td>\n",
       "        </tr>\n",
       "        <tr>\n",
       "            <td>696 Osborne Street</td>\n",
       "            <td>13.86</td>\n",
       "        </tr>\n",
       "    </tbody>\n",
       "</table>"
      ],
      "text/plain": [
       "[('Berger Straße 10', 14.91),\n",
       " ('69 Salem Street', 13.86),\n",
       " ('Theodor-Heuss-Straße 34', 13.86),\n",
       " ('8, Rue Hanovre', 13.86),\n",
       " ('1 Infinite Loop', 13.86),\n",
       " ('Calle Lira, 198', 13.86),\n",
       " ('Tauentzienstraße 8', 13.86),\n",
       " ('700 W Pender Street', 13.86),\n",
       " ('113 Lupus St', 13.86),\n",
       " ('696 Osborne Street', 13.86)]"
      ]
     },
     "execution_count": 8,
     "metadata": {},
     "output_type": "execute_result"
    }
   ],
   "source": [
    "%%sql\n",
    "SELECT BillingAddress, Total FROM invoices\n",
    "WHERE\n",
    "Total BETWEEN 10 AND 15\n",
    "ORDER BY Total DESC\n",
    "LIMIT 10"
   ]
  }
 ],
 "metadata": {
  "kernelspec": {
   "display_name": ".env",
   "language": "python",
   "name": "python3"
  },
  "language_info": {
   "codemirror_mode": {
    "name": "ipython",
    "version": 3
   },
   "file_extension": ".py",
   "mimetype": "text/x-python",
   "name": "python",
   "nbconvert_exporter": "python",
   "pygments_lexer": "ipython3",
   "version": "3.10.12"
  },
  "orig_nbformat": 4
 },
 "nbformat": 4,
 "nbformat_minor": 2
}
